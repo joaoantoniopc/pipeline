{
  "cells": [
    {
      "cell_type": "markdown",
      "metadata": {
        "id": "view-in-github",
        "colab_type": "text"
      },
      "source": [
        "<a href=\"https://colab.research.google.com/github/joaoantoniopc/pipeline/blob/main/desafio.ipynb\" target=\"_parent\"><img src=\"https://colab.research.google.com/assets/colab-badge.svg\" alt=\"Open In Colab\"/></a>"
      ]
    },
    {
      "cell_type": "markdown",
      "metadata": {
        "id": "KprKQy5IR1c9"
      },
      "source": [
        "# <font color = blue> Pipeline do\n",
        "\n",
        "\n",
        "\n",
        "1.   Entendimento do Problema de Negócio\n",
        "2.   Análise Exploratória de Dados\n",
        "3.   Processamento dos Dados\n",
        "4.   Análise Exploratória de Dados\n",
        "5.   Análise Exploratória de Dados\n",
        "\n",
        "\n",
        "\n",
        "\n",
        "\n",
        "\n"
      ]
    },
    {
      "cell_type": "markdown",
      "metadata": {
        "id": "ps2kL5h5Pykd"
      },
      "source": [
        "## ![](https://miro.medium.com/v2/resize:fit:679/0*Yb_BsikIKFAtuKj9.gif)\n",
        "\n"
      ]
    },
    {
      "cell_type": "markdown",
      "metadata": {
        "id": "UBdmUt4_SREA"
      },
      "source": [
        "#1° Entendimento do Problema de Negócio\n"
      ]
    },
    {
      "cell_type": "markdown",
      "metadata": {
        "id": "U5kDi8aIWYa_"
      },
      "source": [
        "\n",
        "\n",
        "    1. Fontes de Dados Simuladas: Crie duas fontes de dados simuladas em formato CSV: uma representando dados de vendas (com campos como data, produto, valor) e outra representando dados de clientes (com campos como ID, nome, email).\n",
        "\n",
        "    2. Transformação de Dados: Desenvolva um processo de transformação de dados usando a linguagem de programação de sua escolha (por exemplo, Python ou SQL) para combinar os dados de vendas e clientes com base no ID do cliente. O resultado deve ser uma tabela consolidada com informações relevantes para análise.\n",
        "\n",
        "    3. Data Warehouse Simulado: Modele um esquema simples para um Data Warehouse que possa acomodar os dados consolidados. Pode ser um esquema estrela básico com tabelas de fatos e dimensões.\n",
        "\n",
        "    4. Carga no Data Warehouse: Crie um script ou processo para carregar os dados consolidados na estrutura do Data Warehouse simulado.\n",
        "\n",
        "    5. Visualização de Dados: Use uma ferramenta de visualização de dados de sua escolha (por exemplo, Power BI, Tableau ou outra) para criar um painel simples que apresente informações sobre as vendas. Você pode incluir gráficos de vendas por período, produto mais vendido etc."
      ]
    },
    {
      "cell_type": "markdown",
      "metadata": {
        "id": "R7T4l9qrqA0H"
      },
      "source": [
        "#2° Fontes de Dados Simuladas e transformações\n",
        "\n",
        "Em anexo consta os arquivos sql criados para extração dos cliente onde já foram realizadas as transformações de normalização de dados(extract_cliente.sql) e extração das vendas(extract_vendas.sql)."
      ]
    },
    {
      "cell_type": "markdown",
      "metadata": {
        "id": "F9e67tN0QjnU"
      },
      "source": []
    },
    {
      "cell_type": "code",
      "source": [
        "from google.colab import drive\n",
        "drive.mount('/content/drive')"
      ],
      "metadata": {
        "colab": {
          "base_uri": "https://localhost:8080/"
        },
        "id": "5IcgQFomHMyu",
        "outputId": "3516d7e2-03c5-4b9e-ff9d-b79dd65b933c"
      },
      "execution_count": 3,
      "outputs": [
        {
          "output_type": "stream",
          "name": "stdout",
          "text": [
            "Drive already mounted at /content/drive; to attempt to forcibly remount, call drive.mount(\"/content/drive\", force_remount=True).\n"
          ]
        }
      ]
    },
    {
      "cell_type": "markdown",
      "metadata": {
        "id": "f2ynYTW2Ty76"
      },
      "source": [
        "#2° Análise Exploratória dos Dados\n",
        "\n",
        "Neste passo foi realizado merge dos arquivos e removido campos duplicados."
      ]
    },
    {
      "cell_type": "markdown",
      "source": [
        "Instalacao das bibliotecas"
      ],
      "metadata": {
        "id": "q0MNqNf8J17C"
      }
    },
    {
      "cell_type": "code",
      "execution_count": 5,
      "metadata": {
        "colab": {
          "base_uri": "https://localhost:8080/"
        },
        "id": "XMWYXQbnUblA",
        "outputId": "bdf5a5a8-740a-456b-ed83-c3372fab0924"
      },
      "outputs": [
        {
          "output_type": "stream",
          "name": "stdout",
          "text": [
            "Requirement already satisfied: pandas in /usr/local/lib/python3.10/dist-packages (1.5.3)\n",
            "Requirement already satisfied: gdown in /usr/local/lib/python3.10/dist-packages (4.6.6)\n",
            "Requirement already satisfied: python-dateutil>=2.8.1 in /usr/local/lib/python3.10/dist-packages (from pandas) (2.8.2)\n",
            "Requirement already satisfied: pytz>=2020.1 in /usr/local/lib/python3.10/dist-packages (from pandas) (2023.3.post1)\n",
            "Requirement already satisfied: numpy>=1.21.0 in /usr/local/lib/python3.10/dist-packages (from pandas) (1.23.5)\n",
            "Requirement already satisfied: filelock in /usr/local/lib/python3.10/dist-packages (from gdown) (3.12.4)\n",
            "Requirement already satisfied: requests[socks] in /usr/local/lib/python3.10/dist-packages (from gdown) (2.31.0)\n",
            "Requirement already satisfied: six in /usr/local/lib/python3.10/dist-packages (from gdown) (1.16.0)\n",
            "Requirement already satisfied: tqdm in /usr/local/lib/python3.10/dist-packages (from gdown) (4.66.1)\n",
            "Requirement already satisfied: beautifulsoup4 in /usr/local/lib/python3.10/dist-packages (from gdown) (4.11.2)\n",
            "Requirement already satisfied: soupsieve>1.2 in /usr/local/lib/python3.10/dist-packages (from beautifulsoup4->gdown) (2.5)\n",
            "Requirement already satisfied: charset-normalizer<4,>=2 in /usr/local/lib/python3.10/dist-packages (from requests[socks]->gdown) (3.3.0)\n",
            "Requirement already satisfied: idna<4,>=2.5 in /usr/local/lib/python3.10/dist-packages (from requests[socks]->gdown) (3.4)\n",
            "Requirement already satisfied: urllib3<3,>=1.21.1 in /usr/local/lib/python3.10/dist-packages (from requests[socks]->gdown) (2.0.6)\n",
            "Requirement already satisfied: certifi>=2017.4.17 in /usr/local/lib/python3.10/dist-packages (from requests[socks]->gdown) (2023.7.22)\n",
            "Requirement already satisfied: PySocks!=1.5.7,>=1.5.6 in /usr/local/lib/python3.10/dist-packages (from requests[socks]->gdown) (1.7.1)\n",
            "Collecting sweetviz\n",
            "  Downloading sweetviz-2.2.1-py3-none-any.whl (15.1 MB)\n",
            "\u001b[2K     \u001b[90m━━━━━━━━━━━━━━━━━━━━━━━━━━━━━━━━━━━━━━━━\u001b[0m \u001b[32m15.1/15.1 MB\u001b[0m \u001b[31m36.3 MB/s\u001b[0m eta \u001b[36m0:00:00\u001b[0m\n",
            "\u001b[?25hRequirement already satisfied: pandas!=1.0.0,!=1.0.1,!=1.0.2,>=0.25.3 in /usr/local/lib/python3.10/dist-packages (from sweetviz) (1.5.3)\n",
            "Requirement already satisfied: numpy>=1.16.0 in /usr/local/lib/python3.10/dist-packages (from sweetviz) (1.23.5)\n",
            "Requirement already satisfied: matplotlib>=3.1.3 in /usr/local/lib/python3.10/dist-packages (from sweetviz) (3.7.1)\n",
            "Requirement already satisfied: tqdm>=4.43.0 in /usr/local/lib/python3.10/dist-packages (from sweetviz) (4.66.1)\n",
            "Requirement already satisfied: scipy>=1.3.2 in /usr/local/lib/python3.10/dist-packages (from sweetviz) (1.11.3)\n",
            "Requirement already satisfied: jinja2>=2.11.1 in /usr/local/lib/python3.10/dist-packages (from sweetviz) (3.1.2)\n",
            "Requirement already satisfied: importlib-resources>=1.2.0 in /usr/local/lib/python3.10/dist-packages (from sweetviz) (6.1.0)\n",
            "Requirement already satisfied: MarkupSafe>=2.0 in /usr/local/lib/python3.10/dist-packages (from jinja2>=2.11.1->sweetviz) (2.1.3)\n",
            "Requirement already satisfied: contourpy>=1.0.1 in /usr/local/lib/python3.10/dist-packages (from matplotlib>=3.1.3->sweetviz) (1.1.1)\n",
            "Requirement already satisfied: cycler>=0.10 in /usr/local/lib/python3.10/dist-packages (from matplotlib>=3.1.3->sweetviz) (0.12.0)\n",
            "Requirement already satisfied: fonttools>=4.22.0 in /usr/local/lib/python3.10/dist-packages (from matplotlib>=3.1.3->sweetviz) (4.43.0)\n",
            "Requirement already satisfied: kiwisolver>=1.0.1 in /usr/local/lib/python3.10/dist-packages (from matplotlib>=3.1.3->sweetviz) (1.4.5)\n",
            "Requirement already satisfied: packaging>=20.0 in /usr/local/lib/python3.10/dist-packages (from matplotlib>=3.1.3->sweetviz) (23.2)\n",
            "Requirement already satisfied: pillow>=6.2.0 in /usr/local/lib/python3.10/dist-packages (from matplotlib>=3.1.3->sweetviz) (9.4.0)\n",
            "Requirement already satisfied: pyparsing>=2.3.1 in /usr/local/lib/python3.10/dist-packages (from matplotlib>=3.1.3->sweetviz) (3.1.1)\n",
            "Requirement already satisfied: python-dateutil>=2.7 in /usr/local/lib/python3.10/dist-packages (from matplotlib>=3.1.3->sweetviz) (2.8.2)\n",
            "Requirement already satisfied: pytz>=2020.1 in /usr/local/lib/python3.10/dist-packages (from pandas!=1.0.0,!=1.0.1,!=1.0.2,>=0.25.3->sweetviz) (2023.3.post1)\n",
            "Requirement already satisfied: six>=1.5 in /usr/local/lib/python3.10/dist-packages (from python-dateutil>=2.7->matplotlib>=3.1.3->sweetviz) (1.16.0)\n",
            "Installing collected packages: sweetviz\n",
            "Successfully installed sweetviz-2.2.1\n"
          ]
        }
      ],
      "source": [
        "!pip install pandas   gdown\n",
        "!pip install sweetviz"
      ]
    },
    {
      "cell_type": "code",
      "source": [
        "from google.colab import files\n",
        "uploaded = files.upload()"
      ],
      "metadata": {
        "colab": {
          "base_uri": "https://localhost:8080/",
          "height": 38
        },
        "id": "LAOlYz8xJy9C",
        "outputId": "fd54f253-94cf-4103-a943-04c85503e65e"
      },
      "execution_count": null,
      "outputs": [
        {
          "output_type": "display_data",
          "data": {
            "text/plain": [
              "<IPython.core.display.HTML object>"
            ],
            "text/html": [
              "\n",
              "     <input type=\"file\" id=\"files-dd69cadd-c078-45d9-8fcb-045edae55b08\" name=\"files[]\" multiple disabled\n",
              "        style=\"border:none\" />\n",
              "     <output id=\"result-dd69cadd-c078-45d9-8fcb-045edae55b08\">\n",
              "      Upload widget is only available when the cell has been executed in the\n",
              "      current browser session. Please rerun this cell to enable.\n",
              "      </output>\n",
              "      <script>// Copyright 2017 Google LLC\n",
              "//\n",
              "// Licensed under the Apache License, Version 2.0 (the \"License\");\n",
              "// you may not use this file except in compliance with the License.\n",
              "// You may obtain a copy of the License at\n",
              "//\n",
              "//      http://www.apache.org/licenses/LICENSE-2.0\n",
              "//\n",
              "// Unless required by applicable law or agreed to in writing, software\n",
              "// distributed under the License is distributed on an \"AS IS\" BASIS,\n",
              "// WITHOUT WARRANTIES OR CONDITIONS OF ANY KIND, either express or implied.\n",
              "// See the License for the specific language governing permissions and\n",
              "// limitations under the License.\n",
              "\n",
              "/**\n",
              " * @fileoverview Helpers for google.colab Python module.\n",
              " */\n",
              "(function(scope) {\n",
              "function span(text, styleAttributes = {}) {\n",
              "  const element = document.createElement('span');\n",
              "  element.textContent = text;\n",
              "  for (const key of Object.keys(styleAttributes)) {\n",
              "    element.style[key] = styleAttributes[key];\n",
              "  }\n",
              "  return element;\n",
              "}\n",
              "\n",
              "// Max number of bytes which will be uploaded at a time.\n",
              "const MAX_PAYLOAD_SIZE = 100 * 1024;\n",
              "\n",
              "function _uploadFiles(inputId, outputId) {\n",
              "  const steps = uploadFilesStep(inputId, outputId);\n",
              "  const outputElement = document.getElementById(outputId);\n",
              "  // Cache steps on the outputElement to make it available for the next call\n",
              "  // to uploadFilesContinue from Python.\n",
              "  outputElement.steps = steps;\n",
              "\n",
              "  return _uploadFilesContinue(outputId);\n",
              "}\n",
              "\n",
              "// This is roughly an async generator (not supported in the browser yet),\n",
              "// where there are multiple asynchronous steps and the Python side is going\n",
              "// to poll for completion of each step.\n",
              "// This uses a Promise to block the python side on completion of each step,\n",
              "// then passes the result of the previous step as the input to the next step.\n",
              "function _uploadFilesContinue(outputId) {\n",
              "  const outputElement = document.getElementById(outputId);\n",
              "  const steps = outputElement.steps;\n",
              "\n",
              "  const next = steps.next(outputElement.lastPromiseValue);\n",
              "  return Promise.resolve(next.value.promise).then((value) => {\n",
              "    // Cache the last promise value to make it available to the next\n",
              "    // step of the generator.\n",
              "    outputElement.lastPromiseValue = value;\n",
              "    return next.value.response;\n",
              "  });\n",
              "}\n",
              "\n",
              "/**\n",
              " * Generator function which is called between each async step of the upload\n",
              " * process.\n",
              " * @param {string} inputId Element ID of the input file picker element.\n",
              " * @param {string} outputId Element ID of the output display.\n",
              " * @return {!Iterable<!Object>} Iterable of next steps.\n",
              " */\n",
              "function* uploadFilesStep(inputId, outputId) {\n",
              "  const inputElement = document.getElementById(inputId);\n",
              "  inputElement.disabled = false;\n",
              "\n",
              "  const outputElement = document.getElementById(outputId);\n",
              "  outputElement.innerHTML = '';\n",
              "\n",
              "  const pickedPromise = new Promise((resolve) => {\n",
              "    inputElement.addEventListener('change', (e) => {\n",
              "      resolve(e.target.files);\n",
              "    });\n",
              "  });\n",
              "\n",
              "  const cancel = document.createElement('button');\n",
              "  inputElement.parentElement.appendChild(cancel);\n",
              "  cancel.textContent = 'Cancel upload';\n",
              "  const cancelPromise = new Promise((resolve) => {\n",
              "    cancel.onclick = () => {\n",
              "      resolve(null);\n",
              "    };\n",
              "  });\n",
              "\n",
              "  // Wait for the user to pick the files.\n",
              "  const files = yield {\n",
              "    promise: Promise.race([pickedPromise, cancelPromise]),\n",
              "    response: {\n",
              "      action: 'starting',\n",
              "    }\n",
              "  };\n",
              "\n",
              "  cancel.remove();\n",
              "\n",
              "  // Disable the input element since further picks are not allowed.\n",
              "  inputElement.disabled = true;\n",
              "\n",
              "  if (!files) {\n",
              "    return {\n",
              "      response: {\n",
              "        action: 'complete',\n",
              "      }\n",
              "    };\n",
              "  }\n",
              "\n",
              "  for (const file of files) {\n",
              "    const li = document.createElement('li');\n",
              "    li.append(span(file.name, {fontWeight: 'bold'}));\n",
              "    li.append(span(\n",
              "        `(${file.type || 'n/a'}) - ${file.size} bytes, ` +\n",
              "        `last modified: ${\n",
              "            file.lastModifiedDate ? file.lastModifiedDate.toLocaleDateString() :\n",
              "                                    'n/a'} - `));\n",
              "    const percent = span('0% done');\n",
              "    li.appendChild(percent);\n",
              "\n",
              "    outputElement.appendChild(li);\n",
              "\n",
              "    const fileDataPromise = new Promise((resolve) => {\n",
              "      const reader = new FileReader();\n",
              "      reader.onload = (e) => {\n",
              "        resolve(e.target.result);\n",
              "      };\n",
              "      reader.readAsArrayBuffer(file);\n",
              "    });\n",
              "    // Wait for the data to be ready.\n",
              "    let fileData = yield {\n",
              "      promise: fileDataPromise,\n",
              "      response: {\n",
              "        action: 'continue',\n",
              "      }\n",
              "    };\n",
              "\n",
              "    // Use a chunked sending to avoid message size limits. See b/62115660.\n",
              "    let position = 0;\n",
              "    do {\n",
              "      const length = Math.min(fileData.byteLength - position, MAX_PAYLOAD_SIZE);\n",
              "      const chunk = new Uint8Array(fileData, position, length);\n",
              "      position += length;\n",
              "\n",
              "      const base64 = btoa(String.fromCharCode.apply(null, chunk));\n",
              "      yield {\n",
              "        response: {\n",
              "          action: 'append',\n",
              "          file: file.name,\n",
              "          data: base64,\n",
              "        },\n",
              "      };\n",
              "\n",
              "      let percentDone = fileData.byteLength === 0 ?\n",
              "          100 :\n",
              "          Math.round((position / fileData.byteLength) * 100);\n",
              "      percent.textContent = `${percentDone}% done`;\n",
              "\n",
              "    } while (position < fileData.byteLength);\n",
              "  }\n",
              "\n",
              "  // All done.\n",
              "  yield {\n",
              "    response: {\n",
              "      action: 'complete',\n",
              "    }\n",
              "  };\n",
              "}\n",
              "\n",
              "scope.google = scope.google || {};\n",
              "scope.google.colab = scope.google.colab || {};\n",
              "scope.google.colab._files = {\n",
              "  _uploadFiles,\n",
              "  _uploadFilesContinue,\n",
              "};\n",
              "})(self);\n",
              "</script> "
            ]
          },
          "metadata": {}
        }
      ]
    },
    {
      "cell_type": "code",
      "execution_count": null,
      "metadata": {
        "id": "3BZDiOc7UO4-"
      },
      "outputs": [],
      "source": [
        "# Importando as bibliotecas necessárias\n",
        "import pandas as pd\n",
        "import io\n",
        "import sweetviz as sv\n",
        "import gdown\n",
        "\n",
        "# Lendo os DataFrames com o delimitador correto (vírgula) e indicando que a primeira linha contém cabeçalhos\n",
        "\n",
        "# Carregando os dados do arquivo CSV 'clientes.csv' em clientes_df\n",
        "clientes_df = pd.read_csv(\"clientes.csv\",  header=0, encoding='utf-8')\n",
        "\n",
        "# Carregando os dados do arquivo CSV 'vendas.csv' em vendas_df\n",
        "vendas_df = pd.read_csv(\"vendas.csv\",  header=0, encoding='utf-8')\n",
        "\n",
        "# Realizando a junção dos DataFrames pelos campos \"id do cliente\"\n",
        "resultado_df = pd.merge(clientes_df, vendas_df, on=\"id\")\n",
        "\n",
        "# Removendo colunas duplicadas após o merge\n",
        "resultado_df = resultado_df.loc[:, ~resultado_df.columns.duplicated()]\n",
        "\n",
        "# Realizando a análise com Sweetviz no DataFrame resultado_df\n",
        "resultado = sv.analyze(resultado_df)\n",
        "\n",
        "# Gerando um relatório HTML chamado 'SWEETVIZ_REPORT.html'\n",
        "resultado.show_html('SWEETVIZ_REPORT.html')"
      ]
    },
    {
      "cell_type": "markdown",
      "metadata": {
        "id": "gADqLLmBUt4r"
      },
      "source": [
        "> Neste momento foi gerado o arquivo de análise exploratória dos dados: SWEETVIZ_REPORT.html. Este arquivo serve para para uma análise inicial dos dados que vamos trabalhar durante a pipeline."
      ]
    },
    {
      "cell_type": "markdown",
      "metadata": {
        "id": "n1ehVzRIIwuo"
      },
      "source": [
        "# 3° Processamento de Dados"
      ]
    },
    {
      "cell_type": "markdown",
      "metadata": {
        "id": "fmi918Sb7jIR"
      },
      "source": [
        "### Importação das bibliotecas"
      ]
    },
    {
      "cell_type": "code",
      "execution_count": null,
      "metadata": {
        "id": "xJL3PY4hIy9N"
      },
      "outputs": [],
      "source": [
        "# Manipulação de Dados\n",
        "import pandas as pd\n",
        "import numpy as np\n",
        "\n",
        "# Bibliotecas de IA - Machine Learning e Automações\n",
        "from sklearn.pipeline import make_pipeline\n",
        "from sklearn.model_selection import train_test_split\n",
        "from sklearn.preprocessing import StandardScaler, OneHotEncoder\n",
        "from sklearn.compose import ColumnTransformer\n",
        "from imblearn.over_sampling import SMOTE\n",
        "from lightgbm import LGBMClassifier\n",
        "from sklearn.metrics import classification_report, accuracy_score\n",
        "import pickle"
      ]
    },
    {
      "cell_type": "markdown",
      "metadata": {
        "id": "9-9JOi058tBg"
      },
      "source": [
        "#4° Construção do Data Warehouse\n",
        "\n",
        "Segue:\n",
        "1- Em anexo slq da criação do Data Warehouse;\n",
        "2- Abaixo figura das tabelas criadas no banco de dados postgre."
      ]
    },
    {
      "cell_type": "markdown",
      "metadata": {
        "id": "c14LI4u38zo1"
      },
      "source": [
        "![Data_Warehouse.png](data:image/png;base64,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)"
      ]
    }
  ],
  "metadata": {
    "colab": {
      "collapsed_sections": [
        "H6eH92ooIb_E",
        "UBdmUt4_SREA"
      ],
      "provenance": [],
      "include_colab_link": true
    },
    "kernelspec": {
      "display_name": "Python 3",
      "name": "python3"
    },
    "language_info": {
      "codemirror_mode": {
        "name": "ipython",
        "version": 3
      },
      "file_extension": ".py",
      "mimetype": "text/x-python",
      "name": "python",
      "nbconvert_exporter": "python",
      "pygments_lexer": "ipython3",
      "version": "3.10.11"
    }
  },
  "nbformat": 4,
  "nbformat_minor": 0
}